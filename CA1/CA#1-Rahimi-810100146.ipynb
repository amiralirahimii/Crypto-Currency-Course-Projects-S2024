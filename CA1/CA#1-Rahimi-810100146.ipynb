{
 "cells": [
  {
   "cell_type": "markdown",
   "metadata": {},
   "source": [
    "# <center>CryptoCurrencies CA#1<center>\n",
    "<h1><center>Introduction to Cryptography<center></h1>\n",
    "\n",
    "#### <center>\"Amirali Rahimi - 810100146\"<center>"
   ]
  },
  {
   "cell_type": "markdown",
   "metadata": {},
   "source": [
    "## StoryLine:\n",
    "We have TinTin and Haddock on two seperate islands and they want to send messages to each other using morse codes!!    \n",
    "\n",
    "However, there is a problem over there. Roberto Rastapopoulos (Their enemy!) is listening to their conversation to figure out what they are saying to each other!    \n",
    "\n",
    "Now TinTin wants to use some encryption and decryption to ensure that Roberto couldn't understand what they are saying. Help TinTin to acheive his goal!"
   ]
  },
  {
   "cell_type": "markdown",
   "metadata": {},
   "source": [
    "## Part 1: Symmetric Cryptography\n",
    "\n"
   ]
  },
  {
   "cell_type": "markdown",
   "metadata": {},
   "source": [
    "**Important Note**: In all steps, use **AES-128** encryption method for encryption/decryption. You can use python cryptography libraries for this purpose."
   ]
  },
  {
   "cell_type": "markdown",
   "metadata": {},
   "source": [
    "TinTin decided to design a symmetirc encryption scheme for his connection with haddock. He asked you to design it for him using these steps:"
   ]
  },
  {
   "cell_type": "code",
   "execution_count": 14,
   "metadata": {},
   "outputs": [],
   "source": [
    "from Cryptodome.Cipher import AES\n",
    "from Cryptodome.Random import get_random_bytes"
   ]
  },
  {
   "cell_type": "code",
   "execution_count": 15,
   "metadata": {},
   "outputs": [],
   "source": [
    "def symmetric_encryptor(input_message:str , key:str):\n",
    "    data = input_message.encode('utf-8')\n",
    "    cipher = AES.new(key, AES.MODE_EAX)\n",
    "    cipher_text, tag = cipher.encrypt_and_digest(data)\n",
    "    nonce = cipher.nonce\n",
    "    return cipher_text, nonce, tag"
   ]
  },
  {
   "cell_type": "code",
   "execution_count": 16,
   "metadata": {},
   "outputs": [],
   "source": [
    "def symmetric_decryptor(input_ciphertext:str , key:str, tag:bytes, nonce:bytes):\n",
    "    cipher = AES.new(key, AES.MODE_EAX, nonce)\n",
    "    data = cipher.decrypt_and_verify(input_ciphertext, tag)\n",
    "    plain_text = data.decode('utf-8')\n",
    "    return plain_text"
   ]
  },
  {
   "cell_type": "code",
   "execution_count": 17,
   "metadata": {},
   "outputs": [],
   "source": [
    "def symmetric_verifier(plaintext:str, ciphertext:str, key:str, tag:bytes, nonce:bytes):\n",
    "    return plaintext == symmetric_decryptor(ciphertext, key, tag, nonce)"
   ]
  },
  {
   "cell_type": "markdown",
   "metadata": {},
   "source": [
    "Now we read the confiential-Message from the file and encrypt it"
   ]
  },
  {
   "cell_type": "code",
   "execution_count": 18,
   "metadata": {},
   "outputs": [
    {
     "name": "stdout",
     "output_type": "stream",
     "text": [
      "b'\\xb3hc\\xfc\\xb5\\x95a\\x1b\\x1e\\x1c\\x9a61\\x90mI\\xc1\\x9c\\xa0\\x9d0he\\xfc\\xb1\\xec%\\xac}+\\xcb\\xc0\\xcag\\xb5n\\x06\\xb7\\x8c\\xd3\\x89+\\x0f\\xa3\\xb1%\\xd4\\xbbx-\\xe3[H7cJ|\\x1e\\xaf\\xe6P9\\xc74G\\xcb\\x06\\xcf\\xb6Y\\xa0\\xba\\x97\\xc9\\xe3t\\xd4q}\\xae]7@\\xbb\\x14dt\\xae\\x11\\xfe\\xabL\\xd9\\xe7H\\x91\\xe4\\xd4D\\x18\\x04\\xbd\\xa6\\xd7>\\xd52F(\\x9e\\x14\\x90\\x92\\xe6\\xec=X\\'is6\\x93\\xb5E\\xe4fb\\xc1\\xa1\\xe5p\\x9eVM\\x9e\\x19J\\xea\\xdd\\xdd\\xebd\\x8a\\xaem\\x0cq\\xa8\\x8d\\x85F\\xa7\\xad\\xfe`&e*\\xf8\\x03\"\\x8c\\xe2]\\xaf3\\xd3\\xac\\xef\\x02\\x9e\\xcb8\\xa9>\\xb27x\\xbf\\xd0\\xdf $\\xfc\\xce\\xe7wE\\xae`\\xf62\\xc3\\xad\\xad\\x17\\x14\\x12\\xbcc\\xc7\\xd3\\xa6\\x8d\\xb7\\xabm\\x82\\xa14\\xec\\x86\\x06\\xf2\\xd9U\\xbe\\x95\\xe8\\xb4^\\xe8\\x82\\xdb\\xe1\\xee\\xe1\\xcb\\xf6\\x02\\x9e1A\\\\;\\x9br\\xe9\\xc5\\xd6J\\xbe\\xa3\\x8d\\x19\\xf0\\xb3h\\xff&\\xb8\\x8b\\xb9{*\\xe7\\x11/\\xf8r=\\x94lI\\x18\\x93\\xf6\\x94\\x1a\\n\\xbfF\\x8c\\xdf\\x87\\xe3#`\\x04~!\\xfa2\\xc4/\\x93\\xe8\\xddA40\\\\M1\\xbc\\t\\xc3\\xf7rKOV\\xed\\xb7\\x1c\\xcd\\xb0\\x9e\\x0f\\x12< q\\xe2\\x9a\\xa5\\xd4J\\xaf\\x8dq\\xfdK\\x03\\xfd\\xce\\xa2\\xb2/\\xb6\\x08\\xa2g\\xd7\\xf8\\x193\\xea]W\\xfe\\xb8\\x9d\\r\\xa9\\x88\\xe6!\\x8c\\r\\xd3p\\xbf\\xc0\\x8b\\x16\\xf6Q}\\xacy\\xb4wj\\xc4\\xe3e4\\xe5\\x1a\\xdc\\xa3\\x03\\x84Y6\\xafI-\\xc4\\x03L As\\\\\\xf9\\x05\\xd8\\x95zx\\xe8=\\xd0\\x99\\x90\\xa6\\xc8\\x02\\x87\\xc8.\\xc6\\xb9\\xb4\\x18\\xd45\\xa8$b\\xc0\\xe2f\\xdfQ]Q\\x9b\\xb3\\xbdu\\xc4\\x13\\x1b\\xd7~\\x08\\x0c\\xa9]~w\\x8b\\re\\xear\\x1c4\\xd4\\x02\\x1b\\xe8H\\\\\\xb6\\xd4\\xad\\x8cG\\xc9~Z\\x0e1\\x92\\xba\\xb7Y7\\xb2kT\\x92W\\x01\\x93xdd\\xda\\x86r\\x82\\x80\\t\\xc8;l\\xe4\\xb1)O\\xc0z)\\x8eX.\\xf5\\xba\\x08\\xa4\\x07\\x17\\x8e-\\xab\\x12&\\xd4C\\xcap\\x11\\xe7\\xa6`O\\\\\\xf9!\\xdd\\x9bQ[u\\xf5d\\xe7\\x87\\x82\\xfc=\\x1dT\\x89+S\\x90\\xdd\\x0cQa\\x9c\\x02\\t\\n\\xa2n\\xbb\\xf8F\\xc5d7VQF\\xcd\\rW,\\xa3\\xdf\\xe8Y2\\x0e\\x15\\x8d\\x05\\xcc\\xb0\\x87\\xecv\\x7f\\x1d\\xd9\\xa3\\xe8\\xb6Bl\\x03o\\x044\\xcc\\x95n\\xfb\\x18L\\xe7s\\xd4\\xbe9$#p\\x95\\x14\"j\\x91\"u!Z\\x99si\\xd8\\x8e\\xd5[\\x8eF\\xecns\\xf8\\xf7i\\x1c\\xa2\\x03\\x95\\xed\\xccN\\xf0\\xa0h\\xb2\\xa2\\x97\\x14%\\xa3!\\xf4\\xf8\\tj\\xd1\\x8d\\xcdc\\x1a\\x9d\\xc4\\xa7\\xd7\\x04\\x8f\\\\(a8\\xa7\\x93\\xddI}\\xa5KnV5\\xc4\\xc2\\xf2\\xc5Q\\x95\\x1b\\xdc_\\x06q\\xcfP\\x1b\\xb8\\x17\\xe8,ZJb\\x16\\xedC?\\x94\\xddv\\x00~\\x86\\x81-\\x9a\\xe4\\x9b\\xfb\\xe9\\xf2\\xc3\\x87\\x8b \\xe7\\xe4h\\x81\\x90\\xac\\x92Ui\\xb7\\x06[T,\\x96\\xf7\\xf4\\xeb?\\xe2\\xea\\xaf\\xbd\\xd3\\n\\\\\\x13\\xf4^<\\xda\\xd1\\xf7\\xbe\\xd8\\xeb\\xacjmJ\\xb6\\xef99{\\xfa\\xbc\\x9c\\x1d\\xc4\\x8fy\\xf6r\\xf1(\\x00R\\xcc\\x88\\xe6)\\xe8\\xa9\\xef\\x85\\xd5\\x0f\\xb0\\x8f{A\\xd3\\x9a\\xdf\\xa7\\xf8\\x98\\xd8\\x1a\\xa3\\x1fn0\\xcb\\xc0\\x1c\\x10\\x0e\\x192I\\xedu\\xad\\x8a(\\x83\\xbf\\x1a\\x13Wq\\xce\\xe6F7A\\xf0<5x\\xa6\\x11\\xe2\\xa9\\x19j|\\xd5It+\\xf56\\xeeS\\xae\\x1f\\x9d\\xc3\\xdc\\xb5W\\x16\\xf7kB\\xe5\\xcb\\n\\xb1\\x11[,Tmty\\xb3>/\\xd1\\xff\\xd4t\\xe0'\n"
     ]
    }
   ],
   "source": [
    "with open('Confidential-Message.txt') as f:\n",
    "    Confidential_Message = f.read()\n",
    "key = get_random_bytes(16)\n",
    "encrypted_message, nonce, tag = symmetric_encryptor(Confidential_Message, key)\n",
    "print(encrypted_message)"
   ]
  },
  {
   "cell_type": "markdown",
   "metadata": {},
   "source": [
    "Here we decrypt the cipher_text:"
   ]
  },
  {
   "cell_type": "code",
   "execution_count": 19,
   "metadata": {},
   "outputs": [
    {
     "name": "stdout",
     "output_type": "stream",
     "text": [
      "From: Tintin\n",
      "To: Captain Haddock\n",
      "Date: August 13, 2023\n",
      "\n",
      "Subject: Top Secret Mission\n",
      "\n",
      "Dear Captain Haddock,\n",
      "\n",
      "I hope this message finds you well. I wanted to inform you about a top-secret mission we've been assigned by the authorities. Our task is to locate the hidden treasure of Red Rackham, which is believed to be buried on a remote island.\n",
      "\n",
      "For security reasons, I've attached a file containing the coordinates of the island's location and a map of the area. Please keep this information strictly confidential and do not share it with anyone else. We must ensure that our enemies do not get hold of this crucial data.\n",
      "\n",
      "To ensure the utmost secrecy, we will communicate using a secure channel and encryption techniques. Please let me know when you're ready to discuss our plan of action.\n",
      "\n",
      "Stay vigilant, my friend. Our adventure awaits.\n",
      "\n",
      "Yours in secrecy,\n",
      "\n",
      "Tintin\n"
     ]
    }
   ],
   "source": [
    "decrypted_message = symmetric_decryptor(encrypted_message, key, tag, nonce)\n",
    "print(decrypted_message)"
   ]
  },
  {
   "cell_type": "markdown",
   "metadata": {},
   "source": [
    "And we make sure the initial message is same as the result of cipher_text decryption"
   ]
  },
  {
   "cell_type": "code",
   "execution_count": 20,
   "metadata": {},
   "outputs": [
    {
     "data": {
      "text/plain": [
       "True"
      ]
     },
     "execution_count": 20,
     "metadata": {},
     "output_type": "execute_result"
    }
   ],
   "source": [
    "symmetric_verifier(Confidential_Message, encrypted_message, key, tag, nonce)"
   ]
  },
  {
   "cell_type": "markdown",
   "metadata": {},
   "source": [
    "## Part 2: Asymmetric Cryptography"
   ]
  },
  {
   "cell_type": "code",
   "execution_count": 21,
   "metadata": {},
   "outputs": [],
   "source": [
    "from Cryptodome.PublicKey import RSA\n",
    "from Cryptodome.Cipher import PKCS1_OAEP"
   ]
  },
  {
   "cell_type": "markdown",
   "metadata": {},
   "source": [
    "After TinTin found how to use symmetric encryption using a key, he faced another problem! How to share a key with haddock without letting Roberto finds it?        "
   ]
  },
  {
   "cell_type": "markdown",
   "metadata": {},
   "source": [
    "Therefore, he decides to use an asymmetric crypto system.    \n",
    "help him to acheive his goal by writing a program which:"
   ]
  },
  {
   "cell_type": "code",
   "execution_count": 22,
   "metadata": {},
   "outputs": [],
   "source": [
    "def RSA_key_generator():\n",
    "    key = RSA.generate(1024)\n",
    "    private_key = key\n",
    "    public_key = key.publickey()\n",
    "    return private_key, public_key"
   ]
  },
  {
   "cell_type": "code",
   "execution_count": 23,
   "metadata": {},
   "outputs": [],
   "source": [
    "def asymmetric_encryptor(public_key:str, input_message:str):\n",
    "    data = input_message.encode('utf-8')\n",
    "    cipher_rsa = PKCS1_OAEP.new(public_key)\n",
    "    encrypted = cipher_rsa.encrypt(data)\n",
    "    return encrypted"
   ]
  },
  {
   "cell_type": "code",
   "execution_count": 24,
   "metadata": {},
   "outputs": [],
   "source": [
    "def asymmetric_decryptor(private_key:str, ciphertext:str):\n",
    "    cipher_rsa = PKCS1_OAEP.new(private_key)\n",
    "    data = cipher_rsa.decrypt(ciphertext)\n",
    "    decrypted = data.decode('utf-8')\n",
    "    return decrypted"
   ]
  },
  {
   "cell_type": "code",
   "execution_count": 25,
   "metadata": {},
   "outputs": [],
   "source": [
    "def asymmetric_verifier(plaintext:str, ciphertext:str, private_key:str):\n",
    "    return plaintext==asymmetric_decryptor(private_key, ciphertext)"
   ]
  },
  {
   "cell_type": "markdown",
   "metadata": {},
   "source": [
    "Now test your functions by encrypting & decrypting the ((confidential-message.txt)) file again using new asummetric functions."
   ]
  },
  {
   "cell_type": "code",
   "execution_count": 26,
   "metadata": {},
   "outputs": [
    {
     "name": "stdout",
     "output_type": "stream",
     "text": [
      "b'\\x1a\\xe8IG}+\\x8f2x\\xfaj\\x18?z\\x06)\\xd3\\xff\\xacI\\x10!\\x0c\\x97\\xbc\\xedM\\x89`\\xdd& <\\x91F\\xc1E\\xcb\\xbe\\xe1cF\\xb4\\xf0z\\x94\\xceI\\xd1D\\xa0\\xc7\\x9893\\xb5e\\x1c\\xa5\\xed\\xa9\\xa2\\xa4\\x86\\x04\\xedY_\\xe1\\xbf\\x85\\x1e\\x86\\x97\\xa3\\x88\\xc50r\\xbfa\\xd2\\xab\\xa9\\x94\\xbc.\\tF\\x1b&\\x04\\x0f<\\xf9\\xc0\\n\\x89u\\x81\\xc0\\xb2\\xd3l \\x11\\xb4<\\xc1Y\\xa6\\xdb\\xfc\\xfc\\x8a\\x82\\xfe\\xb9h\\xdd6\\xc9d\\x1b?\\x18\\xcb\\x08'\n"
     ]
    }
   ],
   "source": [
    "private_key, public_key = RSA_key_generator()\n",
    "Confidential_Message = 'salam'\n",
    "encrypted_message = asymmetric_encryptor(public_key, Confidential_Message)\n",
    "print(encrypted_message)"
   ]
  },
  {
   "cell_type": "code",
   "execution_count": 27,
   "metadata": {},
   "outputs": [
    {
     "name": "stdout",
     "output_type": "stream",
     "text": [
      "salam\n"
     ]
    }
   ],
   "source": [
    "decrypted_message = asymmetric_decryptor(private_key, encrypted_message)\n",
    "print(decrypted_message)"
   ]
  },
  {
   "cell_type": "code",
   "execution_count": 28,
   "metadata": {},
   "outputs": [
    {
     "data": {
      "text/plain": [
       "True"
      ]
     },
     "execution_count": 28,
     "metadata": {},
     "output_type": "execute_result"
    }
   ],
   "source": [
    "asymmetric_verifier(Confidential_Message, encrypted_message, private_key)"
   ]
  },
  {
   "cell_type": "markdown",
   "metadata": {},
   "source": [
    "## Part 3: Digital signature"
   ]
  },
  {
   "cell_type": "markdown",
   "metadata": {},
   "source": [
    "Write a function to sign a given message in the text file (Confidentail message) using private key which was made in the part 2.   \n",
    "You have to sign the hash of the message, not the whole message (why?). (Use SHA-256 for hashing)\n",
    "1. `Size Efficiency`: The encrypted message using RSA usually has same length as the original message, so our signitaure would be same size as the message. This causes each message to be 2x of it's original size.\n",
    "2. `Performance`: Asymmteric decryptions usually takes so much longer than symmetric decryptions, so it's unnecessary to encrypt the whole message using a asymmetric encryption which takes so much time."
   ]
  },
  {
   "cell_type": "code",
   "execution_count": 29,
   "metadata": {},
   "outputs": [],
   "source": [
    "from Cryptodome.Signature import pkcs1_15\n",
    "from Cryptodome.Hash import SHA256"
   ]
  },
  {
   "cell_type": "code",
   "execution_count": 30,
   "metadata": {},
   "outputs": [],
   "source": [
    "def sign_message(private_key:str, input_message: str):\n",
    "    message_hash = SHA256.new(input_message.encode())\n",
    "    signature = pkcs1_15.new(private_key).sign(message_hash)\n",
    "    return signature"
   ]
  },
  {
   "cell_type": "code",
   "execution_count": 31,
   "metadata": {},
   "outputs": [],
   "source": [
    "def message_verification(input_message:str, signature:str, public_key:str):\n",
    "    message_hash = SHA256.new(input_message.encode())\n",
    "    try:\n",
    "        pkcs1_15.new(public_key).verify(message_hash, signature)\n",
    "        return True\n",
    "    except (ValueError, TypeError):\n",
    "        return False\n"
   ]
  },
  {
   "cell_type": "code",
   "execution_count": 32,
   "metadata": {},
   "outputs": [
    {
     "name": "stdout",
     "output_type": "stream",
     "text": [
      "True\n"
     ]
    }
   ],
   "source": [
    "private_key, public_key = RSA_key_generator()\n",
    "Confidential_Message = 'salam'\n",
    "signature = sign_message(private_key, Confidential_Message)\n",
    "print(message_verification(Confidential_Message, signature, public_key))"
   ]
  },
  {
   "cell_type": "markdown",
   "metadata": {},
   "source": [
    "**MAC (Message Authentication Code)** and **HMAC (Keyed-Hash Message Authentication Code)** are cryptographic methods used for secure messaging:\n",
    "- **MAC**: Verifies message integrity and sender authenticity using a shared secret key. It ensures data integrity, authentication, and secure file transfers.\n",
    "- **HMAC**: An advanced form of MAC, it uses a hash function with the secret key, providing stronger security against attacks. HMAC is common in TLS and IPSec protocols.\n",
    "Both MAC and HMAC ensure secure communication, verifying data integrity, authenticating senders, and detecting tampering. They play crucial roles in ensuring message security in various applications.\n"
   ]
  }
 ],
 "metadata": {
  "kernelspec": {
   "display_name": "Python 3",
   "language": "python",
   "name": "python3"
  },
  "language_info": {
   "codemirror_mode": {
    "name": "ipython",
    "version": 3
   },
   "file_extension": ".py",
   "mimetype": "text/x-python",
   "name": "python",
   "nbconvert_exporter": "python",
   "pygments_lexer": "ipython3",
   "version": "3.11.4"
  },
  "orig_nbformat": 4
 },
 "nbformat": 4,
 "nbformat_minor": 2
}
