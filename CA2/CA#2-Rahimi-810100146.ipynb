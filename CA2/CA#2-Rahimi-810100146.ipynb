{
 "cells": [
  {
   "cell_type": "markdown",
   "metadata": {},
   "source": [
    "# <center>CryptoCurrencies CA#2<center>\n",
    "<h1><center>Transacting on Bitcoin TestNet / Firing up an Ethereum Node<center></h1>\n",
    "\n",
    "#### <center>\"Amirali - Rahimi\"<center>\n",
    "#### <center>\"810100146\"<center>"
   ]
  },
  {
   "cell_type": "markdown",
   "metadata": {},
   "source": [
    "### 1. Address Generation:"
   ]
  },
  {
   "cell_type": "markdown",
   "metadata": {},
   "source": [
    " 1.1: Base58 and WIF address"
   ]
  },
  {
   "cell_type": "code",
   "execution_count": 11,
   "metadata": {},
   "outputs": [],
   "source": [
    "import os\n",
    "import ecdsa\n",
    "import hashlib\n",
    "import base58"
   ]
  },
  {
   "cell_type": "code",
   "execution_count": 12,
   "metadata": {},
   "outputs": [],
   "source": [
    "def private_key_to_wif(private_key):\n",
    "    extended_key = b'\\xEF' + private_key #0xEF for testnet\n",
    "    sha256_1 = hashlib.sha256(extended_key).digest()\n",
    "    sha256_2 = hashlib.sha256(sha256_1).digest()\n",
    "    \n",
    "    checksum = sha256_2[:4]\n",
    "    extended_key_with_checksum = extended_key + checksum\n",
    "    wif = base58.b58encode(extended_key_with_checksum)\n",
    "    return wif"
   ]
  },
  {
   "cell_type": "code",
   "execution_count": 13,
   "metadata": {},
   "outputs": [],
   "source": [
    "def generate_private_key_and_bitcoin_address():\n",
    "    private_key = os.urandom(32)\n",
    "\n",
    "    sk = ecdsa.SigningKey.from_string(private_key, curve=ecdsa.SECP256k1)\n",
    "    vk = sk.verifying_key\n",
    "    public_key = b'\\x04' + vk.to_string()\n",
    "\n",
    "    sha256_pk = hashlib.sha256(public_key).digest()\n",
    "    ripemd160 = hashlib.new('ripemd160')\n",
    "    ripemd160.update(sha256_pk)\n",
    "    ripemd160_pk = ripemd160.digest()\n",
    "    network_byte = b'\\x6F' + ripemd160_pk #0x6F for testnet\n",
    "    sha256_nb = hashlib.sha256(network_byte).digest()\n",
    "    sha256_nb2 = hashlib.sha256(sha256_nb).digest()\n",
    "    checksum = sha256_nb2[:4]\n",
    "    binary_address = network_byte + checksum\n",
    "    testnet_address = base58.b58encode(binary_address)\n",
    "\n",
    "    return private_key, public_key, testnet_address"
   ]
  },
  {
   "cell_type": "code",
   "execution_count": 4,
   "metadata": {},
   "outputs": [],
   "source": [
    "def printThese(private_key, public_key, testnet_address):\n",
    "    print(\"Private Key (hex):\", private_key.hex())\n",
    "    print(\"Public Key (hex):\", public_key.hex())\n",
    "    print(\"Testnet Bitcoin Address:\", testnet_address.decode())\n",
    "    private_key_wif = private_key_to_wif(private_key)\n",
    "    print(\"Private Key (wif):\", private_key_wif.decode())"
   ]
  },
  {
   "cell_type": "code",
   "execution_count": 5,
   "metadata": {},
   "outputs": [
    {
     "name": "stdout",
     "output_type": "stream",
     "text": [
      "Private Key (hex): 81898e39441946ea1f10a66263d12a45da91bfd203206ad4f787d446fd91ba4a\n",
      "Public Key (hex): 042cd341a5b77f678f2af02df1a46d979f8a1e208b94a74e2639159d2074dd14a15b94da5590ce5913b6d60b03c2712a33d72edb6958baf667a7f1e13052815291\n",
      "Testnet Bitcoin Address: n1aAe6wkAPEqJ69wJrZLsRfbhqhGbGXWQe\n",
      "Private Key (wif): 92Zy28i3Y1fGfq4VNfhhGukcYYm8TW6ro5pBrbadH36yco2jiZi\n"
     ]
    }
   ],
   "source": [
    "private_key, public_key, testnet_address = generate_private_key_and_bitcoin_address()\n",
    "printThese(private_key, public_key, testnet_address)"
   ]
  },
  {
   "cell_type": "markdown",
   "metadata": {},
   "source": [
    "1.2: Vanity Address Generator\n"
   ]
  },
  {
   "cell_type": "code",
   "execution_count": 6,
   "metadata": {},
   "outputs": [
    {
     "name": "stdout",
     "output_type": "stream",
     "text": [
      "Private Key (hex): 6c2f522f647d774d34ba05f6bc2f4eed53fcbda5bad13499099d2b8b64976cbe\n",
      "Public Key (hex): 045a85a920b66312907ea8e2b716d1cf6ef95b4f98af0640964a1f4da46596abde167ceb877dd74188163955323791a6fc60c7a2393158163d605aa22fd79b9c5f\n",
      "Testnet Bitcoin Address: moonTrsMrR1D8YKUbkbKaZXapBa4nKYSSF\n",
      "Private Key (wif): 92QZbkTMzm1SEDz63sJtRKkryn8wBouHPhweFJbQ4W2t1qhkBfz\n"
     ]
    }
   ],
   "source": [
    "private_key, public_key, testnet_address = None, None, None\n",
    "vanity_address_start = \"oon\"\n",
    "while(True):\n",
    "    private_key, public_key, testnet_address = generate_private_key_and_bitcoin_address()\n",
    "    if(testnet_address.decode()[1:4]==vanity_address_start):\n",
    "        break\n",
    "\n",
    "printThese(private_key, public_key, testnet_address)"
   ]
  },
  {
   "cell_type": "markdown",
   "metadata": {},
   "source": [
    "### 2. Transacting on Bitcoin TestNet:"
   ]
  },
  {
   "cell_type": "markdown",
   "metadata": {},
   "source": [
    "Here are some utility functions that you will need to use in order to make transactions. Fill the #TODO parts in the functions in order to be used in the next steps:"
   ]
  },
  {
   "cell_type": "markdown",
   "metadata": {},
   "source": [
    "#### Utility Functions:"
   ]
  },
  {
   "cell_type": "code",
   "execution_count": 14,
   "metadata": {},
   "outputs": [],
   "source": [
    "import requests\n",
    "from bitcoin.core import b2x, lx, COIN, COutPoint, CMutableTxOut, CMutableTxIn, CMutableTransaction, Hash160\n",
    "from bitcoin.core.script import *\n",
    "from bitcoin.core.scripteval import VerifyScript, SCRIPT_VERIFY_P2SH\n",
    "\n",
    "def create_txin(txid, utxo_index):\n",
    "    return CMutableTxIn(COutPoint(lx(txid), utxo_index))\n",
    "\n",
    "\n",
    "def create_txout(amount, scriptPubKey):\n",
    "    return CMutableTxOut(amount*COIN, CScript(scriptPubKey))\n",
    "\n",
    "\n",
    "def create_OP_CHECKSIG_signature(txin, txouts, txin_scriptPubKey, seckey):\n",
    "    tx = CMutableTransaction([txin], txouts)\n",
    "    sighash = SignatureHash(CScript(txin_scriptPubKey), tx, 0, SIGHASH_ALL)\n",
    "    sig = seckey.sign(sighash) + bytes([SIGHASH_ALL])\n",
    "    return sig\n",
    "\n",
    "\n",
    "def create_signed_transaction(txin, txouts, txin_scriptPubKey, txin_scriptSig):\n",
    "    tx = CMutableTransaction([txin], txouts)\n",
    "    txin.scriptSig = CScript(txin_scriptSig)\n",
    "    VerifyScript(txin.scriptSig, CScript(txin_scriptPubKey), tx, 0, (SCRIPT_VERIFY_P2SH,))\n",
    "    return tx\n",
    "\n",
    "\n",
    "def broadcast_transaction(tx):\n",
    "    raw_transaction = b2x(tx.serialize())\n",
    "    headers = {'content-type': 'application/x-www-form-urlencoded'}\n",
    "    return requests.post(\n",
    "        'https://api.blockcypher.com/v1/btc/test3/txs/push',\n",
    "        headers=headers,\n",
    "        data='{\"tx\": \"%s\"}' % raw_transaction,\n",
    "    )"
   ]
  },
  {
   "cell_type": "code",
   "execution_count": 15,
   "metadata": {},
   "outputs": [],
   "source": [
    "import bitcoin.wallet\n",
    "from bitcoin.core import COIN, b2lx, serialize, x, lx, b2x\n",
    "\n",
    "bitcoin.SelectParams(\"testnet\")\n",
    "\n",
    "def P2PKH_scriptPubKey(address):\n",
    "    return [OP_DUP, OP_HASH160, address, OP_EQUALVERIFY, OP_CHECKSIG]\n",
    "\n",
    "\n",
    "def P2PKH_scriptSig(txin, txouts, txin_scriptPubKey, private_key, public_key):\n",
    "    signature = create_OP_CHECKSIG_signature(txin, txouts, txin_scriptPubKey, private_key)\n",
    "    return [signature, public_key]\n",
    "\n",
    "\n",
    "def send_from_P2PKH_transactions(amounts, txid_to_spend, utxo_index, txout_scriptPubKeys, sender_address, private_key, public_key):\n",
    "    txouts = [create_txout(amount, scriptPubKey) for amount, scriptPubKey in zip(amounts, txout_scriptPubKeys)]\n",
    "    txin_scriptPubKey = P2PKH_scriptPubKey(sender_address)\n",
    "    txin = create_txin(txid_to_spend, utxo_index)\n",
    "    txin_scriptSig = P2PKH_scriptSig(txin, txouts, txin_scriptPubKey, private_key, public_key)\n",
    "    new_tx = create_signed_transaction(txin, txouts, txin_scriptPubKey, txin_scriptSig)\n",
    "    return broadcast_transaction(new_tx)\n"
   ]
  },
  {
   "cell_type": "markdown",
   "metadata": {},
   "source": [
    "Now use the provided functions to make these transactions:  \n",
    "`All the transaction photos and links are available in the report`"
   ]
  },
  {
   "cell_type": "markdown",
   "metadata": {},
   "source": [
    "2.1: One input and two outputs transaction"
   ]
  },
  {
   "cell_type": "markdown",
   "metadata": {},
   "source": [
    "### repository address using here:\n",
    "`Private Key (hex)`: 54011a9093821a6fcb220e078c6d57618d81824b42187c6cb89a377aff24580a  \n",
    "`Public Key (hex)`:   0470841664631eebe9c1df5972786efef7ab35d5442afd20cf2a85df401c0cb4df8e29ced7be5e5690399b70f6d055ec1b7e6506cd43c67bda097b5a3335ef9127  \n",
    "`Testnet Bitcoin Address`: moonuSvwZDL5HExuVQuL223RSw63fhJsaL  \n",
    "`Private Key (wif)`: 92DuwWRXqqF3yxJCvSUvkcjPE2phy2XMS1jGaM8BQMkUfx7dnPk\n",
    "\n",
    "coin recieved from faucet 1: https://live.blockcypher.com/btc-testnet/tx/7118e8be46e26d09b61263d96b6595fdf8cba651bdc581bde626cf6cc1b28691/"
   ]
  },
  {
   "cell_type": "code",
   "execution_count": 23,
   "metadata": {},
   "outputs": [
    {
     "name": "stdout",
     "output_type": "stream",
     "text": [
      "My Address: moonuSvwZDL5HExuVQuL223RSw63fhJsaL\n",
      "Public Key (hex): 0470841664631eebe9c1df5972786efef7ab35d5442afd20cf2a85df401c0cb4df8e29ced7be5e5690399b70f6d055ec1b7e6506cd43c67bda097b5a3335ef9127\n",
      "Private Key (WIF): 92DuwWRXqqF3yxJCvSUvkcjPE2phy2XMS1jGaM8BQMkUfx7dnPk\n",
      "First transaction broadcasted\n",
      "201 Created\n",
      "{\n",
      "  \"tx\": {\n",
      "    \"block_height\": -1,\n",
      "    \"block_index\": -1,\n",
      "    \"hash\": \"2f082c2def33a2b60b9835e6e178015895f1ab401619bee425b79d8b1698282a\",\n",
      "    \"addresses\": [\n",
      "      \"moonuSvwZDL5HExuVQuL223RSw63fhJsaL\"\n",
      "    ],\n",
      "    \"total\": 16811,\n",
      "    \"fees\": 0,\n",
      "    \"size\": 209,\n",
      "    \"vsize\": 209,\n",
      "    \"preference\": \"low\",\n",
      "    \"relayed_by\": \"202.61.242.34\",\n",
      "    \"received\": \"2024-05-30T15:01:29.46274603Z\",\n",
      "    \"ver\": 1,\n",
      "    \"double_spend\": false,\n",
      "    \"vin_sz\": 1,\n",
      "    \"vout_sz\": 2,\n",
      "    \"confirmations\": 0,\n",
      "    \"inputs\": [\n",
      "      {\n",
      "        \"prev_hash\": \"7118e8be46e26d09b61263d96b6595fdf8cba651bdc581bde626cf6cc1b28691\",\n",
      "        \"output_index\": 1,\n",
      "        \"script\": \"47304402205ee338f843293450f8172f87bf2fec3cd5af8d503ceb1e0ae37c5841e2249eea02201fd6a91c99a2cfd80aa63fc108a30c950adc3de1c0d0e871da966ab6414076a601410470841664631eebe9c1df5972786efef7ab35d5442afd20cf2a85df401c0cb4df8e29ced7be5e5690399b70f6d055ec1b7e6506cd43c67bda097b5a3335ef9127\",\n",
      "        \"output_value\": 16811,\n",
      "        \"sequence\": 4294967295,\n",
      "        \"addresses\": [\n",
      "          \"moonuSvwZDL5HExuVQuL223RSw63fhJsaL\"\n",
      "        ],\n",
      "        \"script_type\": \"pay-to-pubkey-hash\",\n",
      "        \"age\": 2817112\n",
      "      }\n",
      "    ],\n",
      "    \"outputs\": [\n",
      "      {\n",
      "        \"value\": 6811,\n",
      "        \"script\": \"6a\",\n",
      "        \"addresses\": null,\n",
      "        \"script_type\": \"null-data\"\n",
      "      },\n",
      "      {\n",
      "        \"value\": 10000,\n",
      "        \"script\": \"51\",\n",
      "        \"addresses\": null,\n",
      "        \"script_type\": \"unknown\"\n",
      "      }\n",
      "    ]\n",
      "  }\n",
      "}\n"
     ]
    }
   ],
   "source": [
    "my_private_key = bitcoin.wallet.CBitcoinSecret('92DuwWRXqqF3yxJCvSUvkcjPE2phy2XMS1jGaM8BQMkUfx7dnPk')\n",
    "my_public_key = my_private_key.pub\n",
    "my_address = bitcoin.wallet.P2PKHBitcoinAddress.from_pubkey(my_public_key)\n",
    "\n",
    "amount_to_send = 0.00016811\n",
    "txid_to_spend = '7118e8be46e26d09b61263d96b6595fdf8cba651bdc581bde626cf6cc1b28691'\n",
    "utxo_index = 1\n",
    "\n",
    "unspendable_scriptPubKey = [OP_RETURN]\n",
    "anyone_can_spend_scriptPubKey = [OP_TRUE]\n",
    "amounts = [0.00006811, 0.0001]\n",
    "\n",
    "print(\"My Address:\", my_address)\n",
    "print(\"Public Key (hex):\", my_public_key.hex())\n",
    "print(\"Private Key (WIF):\", my_private_key)\n",
    "response = send_from_P2PKH_transactions(amounts, txid_to_spend, utxo_index, [unspendable_scriptPubKey, anyone_can_spend_scriptPubKey], my_address, my_private_key, my_public_key)\n",
    "print(\"First transaction broadcasted\")\n",
    "print(response.status_code, response.reason)\n",
    "print(response.text)"
   ]
  },
  {
   "cell_type": "markdown",
   "metadata": {},
   "source": [
    "In above cell, we created a transaction with 2 output one of them spendable by anyone and the other one is unspendable one. Now we spend the spendable one."
   ]
  },
  {
   "cell_type": "code",
   "execution_count": 24,
   "metadata": {},
   "outputs": [
    {
     "name": "stdout",
     "output_type": "stream",
     "text": [
      "Second transaction broadcasted\n",
      "201 Created\n",
      "{\n",
      "  \"tx\": {\n",
      "    \"block_height\": -1,\n",
      "    \"block_index\": -1,\n",
      "    \"hash\": \"f101e3d17cf5bdbfa1423d7d572e4be77d7e0ec7bd98cbbaa10fb95ad9bb6d40\",\n",
      "    \"addresses\": [\n",
      "      \"moonuSvwZDL5HExuVQuL223RSw63fhJsaL\"\n",
      "    ],\n",
      "    \"total\": 10000,\n",
      "    \"fees\": 0,\n",
      "    \"size\": 223,\n",
      "    \"vsize\": 223,\n",
      "    \"preference\": \"low\",\n",
      "    \"relayed_by\": \"202.61.242.34\",\n",
      "    \"received\": \"2024-05-30T15:06:52.404704971Z\",\n",
      "    \"ver\": 1,\n",
      "    \"double_spend\": false,\n",
      "    \"vin_sz\": 1,\n",
      "    \"vout_sz\": 1,\n",
      "    \"confirmations\": 0,\n",
      "    \"inputs\": [\n",
      "      {\n",
      "        \"prev_hash\": \"2f082c2def33a2b60b9835e6e178015895f1ab401619bee425b79d8b1698282a\",\n",
      "        \"output_index\": 1,\n",
      "        \"script\": \"47304402202ea8250cd55c7d3b9d63259df8480c12194775275a4cdef290e1c3386e76f98c0220760697a20457cc7c43b4660ba22e28dfc95c0403999d493ee1a3f484937e057001410470841664631eebe9c1df5972786efef7ab35d5442afd20cf2a85df401c0cb4df8e29ced7be5e5690399b70f6d055ec1b7e6506cd43c67bda097b5a3335ef9127\",\n",
      "        \"output_value\": 10000,\n",
      "        \"sequence\": 4294967295,\n",
      "        \"script_type\": \"unknown\",\n",
      "        \"age\": 0\n",
      "      }\n",
      "    ],\n",
      "    \"outputs\": [\n",
      "      {\n",
      "        \"value\": 10000,\n",
      "        \"script\": \"76a9145af03d4c21a6069e0829dfce9bb40ba34168693f88ac\",\n",
      "        \"addresses\": [\n",
      "          \"moonuSvwZDL5HExuVQuL223RSw63fhJsaL\"\n",
      "        ],\n",
      "        \"script_type\": \"pay-to-pubkey-hash\"\n",
      "      }\n",
      "    ]\n",
      "  }\n",
      "}\n"
     ]
    }
   ],
   "source": [
    "txid_to_spend_2 = '2f082c2def33a2b60b9835e6e178015895f1ab401619bee425b79d8b1698282a'\n",
    "utxo_index_2 = 1\n",
    "\n",
    "txout_scriptPubKey_2 = P2PKH_scriptPubKey(my_address)\n",
    "\n",
    "response_2 = send_from_P2PKH_transactions([0.0001], txid_to_spend_2, utxo_index_2, [txout_scriptPubKey_2], my_address, my_private_key, my_public_key)\n",
    "print(\"Second transaction broadcasted\")\n",
    "print(response_2.status_code, response_2.reason)\n",
    "print(response_2.text)"
   ]
  },
  {
   "cell_type": "markdown",
   "metadata": {},
   "source": [
    "## Address 1:\n",
    "`Private Key (hex)`: 013da2dadc13390055ede81574ec9affc3c8d1e325a89456eb98e0ebee43e7eb  \n",
    "`Public Key (hex)`: 0440a061c0a6575528f43e499dffe98471933296513ff3a816a91600c5a775b7c421b43e9945d3c420ed614915574284f4351bf715b8c796c1df5d166196c0d1aa  \n",
    "`Testnet Bitcoin Address`: mgMM1SPcCNQW9b3jPJmZkePWx9kar6waFJ  \n",
    "`Private Key (wif)`: 91bTreuLx5aRX4FhfxFpRkkB9a4zXMQw6qpst5vELmqq2dLTTMv  \n",
    "## Address 2:\n",
    "`Private Key (hex)`: 428a14aae29004b707fe3ae6630c79595c5348cbfc23be8becd5a51ba9b869fb  \n",
    "`Public Key (hex)`: 043314365a064a88759c0dff88b4dda08ec243936dd08b10b98e5974221f47301c7296ac382edc0f54dd854bd06d423142f3d4ff9fba05389adeddf012ca91726d  \n",
    "`Testnet Bitcoin Address`: n4aAg3a6QuCd8ntxetzKss2hnKLJAWGgCQ  \n",
    "`Private Key (wif)`: 926DpeVNpQW5gnbph8zCkBwQKC2jSumAK1L8m2tvbtEvbDhbjfb\n",
    "## Address 3:\n",
    "`Private Key (hex)`: 448dc43e0e27ab998edb8da347f6e40bdbb5d783f72a257c76e995dcdd3ef625  \n",
    "`Public Key (hex)`: 041a90a89a2f577df18c246a6fa0410fc1155d9dec19a7ba0b656e70c5d4e4fac893515ec0dbb397978fcce6e7baa361296cad78c62a10f8ed447bc209aa2390c7  \n",
    "`Testnet Bitcoin Address`: mvBzwrdjU8VcAACm9MQMivHz6aB6xsf91p  \n",
    "`Private Key (wif)`: 9277H3QbThMiSxEtzxMoaoQjoJ5qhkkMBKqhiWqs3tDPiptEFRB  "
   ]
  },
  {
   "cell_type": "markdown",
   "metadata": {},
   "source": [
    "2.2: Pay to MultiSig transaction (P2MS)  \n",
    "Here we recieve more coins from faucet:  \n",
    "https://live.blockcypher.com/btc-testnet/tx/ee2bf70266b32905d2ba9b86ddf4c76b881d8128068dfcdb9b4398311a6dace4/\n"
   ]
  },
  {
   "cell_type": "code",
   "execution_count": 25,
   "metadata": {},
   "outputs": [],
   "source": [
    "def MULTISIG_scriptPubKey(public_key1, public_key2, public_key3):\n",
    "    return [OP_2, public_key1, public_key2, public_key3, OP_3, OP_CHECKMULTISIG]\n",
    "\n",
    "\n",
    "def multisigScriptSig(txin, txout, txin_scriptPubKey, private_key1, private_key2):\n",
    "    signature1 = create_OP_CHECKSIG_signature(txin, [txout], txin_scriptPubKey, private_key1)\n",
    "    signature2 = create_OP_CHECKSIG_signature(txin, [txout], txin_scriptPubKey, private_key2)\n",
    "    return [OP_0, signature1, signature2]\n",
    "\n",
    "\n",
    "def send_from_MULTISIG_transaction(amount, txid_to_spend, utxo_index, txout_scriptPubKey, public_key1, public_key2, public_key3, private_key1, private_key2):\n",
    "    txout = create_txout(amount, txout_scriptPubKey)\n",
    "    txin_scriptPubKey = MULTISIG_scriptPubKey(public_key1, public_key2, public_key3)\n",
    "    txin = create_txin(txid_to_spend, utxo_index)\n",
    "    txin_scriptSig = multisigScriptSig(txin, txout, txin_scriptPubKey, private_key1, private_key2)\n",
    "    new_tx = create_signed_transaction(txin, [txout], txin_scriptPubKey, txin_scriptSig)\n",
    "    return broadcast_transaction(new_tx)"
   ]
  },
  {
   "cell_type": "code",
   "execution_count": 26,
   "metadata": {},
   "outputs": [
    {
     "name": "stdout",
     "output_type": "stream",
     "text": [
      "First transaction broadcasted\n",
      "201 Created\n",
      "{\n",
      "  \"tx\": {\n",
      "    \"block_height\": -1,\n",
      "    \"block_index\": -1,\n",
      "    \"hash\": \"68133e81839f5edb08441b2214fe0a48834612e1dfef176ebac57cee96297511\",\n",
      "    \"addresses\": [\n",
      "      \"zLELbFzx3Hm7YXF269QDZyfRdrPsNg4jcW\",\n",
      "      \"moonuSvwZDL5HExuVQuL223RSw63fhJsaL\"\n",
      "    ],\n",
      "    \"total\": 10807,\n",
      "    \"fees\": 0,\n",
      "    \"size\": 399,\n",
      "    \"vsize\": 399,\n",
      "    \"preference\": \"low\",\n",
      "    \"relayed_by\": \"202.61.242.34\",\n",
      "    \"received\": \"2024-05-30T15:12:01.645486009Z\",\n",
      "    \"ver\": 1,\n",
      "    \"double_spend\": false,\n",
      "    \"vin_sz\": 1,\n",
      "    \"vout_sz\": 1,\n",
      "    \"confirmations\": 0,\n",
      "    \"inputs\": [\n",
      "      {\n",
      "        \"prev_hash\": \"ee2bf70266b32905d2ba9b86ddf4c76b881d8128068dfcdb9b4398311a6dace4\",\n",
      "        \"output_index\": 0,\n",
      "        \"script\": \"473044022027a70967e9be2b2ad955b8c8b30cbe8cbee48712482f0f4eb5c0c32907c4b9d5022078ce616ec677b132f41ba11caca7dcda71f93543c17d72d71cdda0d8fb41648d01410470841664631eebe9c1df5972786efef7ab35d5442afd20cf2a85df401c0cb4df8e29ced7be5e5690399b70f6d055ec1b7e6506cd43c67bda097b5a3335ef9127\",\n",
      "        \"output_value\": 10807,\n",
      "        \"sequence\": 4294967295,\n",
      "        \"addresses\": [\n",
      "          \"moonuSvwZDL5HExuVQuL223RSw63fhJsaL\"\n",
      "        ],\n",
      "        \"script_type\": \"pay-to-pubkey-hash\",\n",
      "        \"age\": 2817728\n",
      "      }\n",
      "    ],\n",
      "    \"outputs\": [\n",
      "      {\n",
      "        \"value\": 10807,\n",
      "        \"script\": \"52410440a061c0a6575528f43e499dffe98471933296513ff3a816a91600c5a775b7c421b43e9945d3c420ed614915574284f4351bf715b8c796c1df5d166196c0d1aa41043314365a064a88759c0dff88b4dda08ec243936dd08b10b98e5974221f47301c7296ac382edc0f54dd854bd06d423142f3d4ff9fba05389adeddf012ca91726d41041a90a89a2f577df18c246a6fa0410fc1155d9dec19a7ba0b656e70c5d4e4fac893515ec0dbb397978fcce6e7baa361296cad78c62a10f8ed447bc209aa2390c753ae\",\n",
      "        \"addresses\": [\n",
      "          \"zLELbFzx3Hm7YXF269QDZyfRdrPsNg4jcW\"\n",
      "        ],\n",
      "        \"script_type\": \"pay-to-multi-pubkey-hash\"\n",
      "      }\n",
      "    ]\n",
      "  }\n",
      "}\n"
     ]
    }
   ],
   "source": [
    "my_private_key = bitcoin.wallet.CBitcoinSecret('92DuwWRXqqF3yxJCvSUvkcjPE2phy2XMS1jGaM8BQMkUfx7dnPk')\n",
    "my_public_key = my_private_key.pub\n",
    "my_address = bitcoin.wallet.P2PKHBitcoinAddress.from_pubkey(my_public_key)\n",
    "\n",
    "private_key1 = bitcoin.wallet.CBitcoinSecret('91bTreuLx5aRX4FhfxFpRkkB9a4zXMQw6qpst5vELmqq2dLTTMv')\n",
    "private_key2 = bitcoin.wallet.CBitcoinSecret('926DpeVNpQW5gnbph8zCkBwQKC2jSumAK1L8m2tvbtEvbDhbjfb')\n",
    "private_key3 = bitcoin.wallet.CBitcoinSecret('9277H3QbThMiSxEtzxMoaoQjoJ5qhkkMBKqhiWqs3tDPiptEFRB')\n",
    "public_key1 , public_key2, public_key3 = private_key1.pub, private_key2.pub, private_key3.pub          \n",
    "address1 = bitcoin.wallet.P2PKHBitcoinAddress.from_pubkey(public_key1)\n",
    "address2 = bitcoin.wallet.P2PKHBitcoinAddress.from_pubkey(public_key2)\n",
    "address3 = bitcoin.wallet.P2PKHBitcoinAddress.from_pubkey(public_key3)\n",
    "\n",
    "multisigScriptPubKey = MULTISIG_scriptPubKey(public_key1, public_key2, public_key3)\n",
    "\n",
    "txid_to_spend = 'ee2bf70266b32905d2ba9b86ddf4c76b881d8128068dfcdb9b4398311a6dace4'\n",
    "utxo_index = 0\n",
    "amount = 0.00010807\n",
    "\n",
    "response = send_from_P2PKH_transactions([amount], txid_to_spend, utxo_index, [multisigScriptPubKey], my_address, my_private_key, my_public_key)\n",
    "\n",
    "print(\"First transaction broadcasted\")\n",
    "print(response.status_code, response.reason)\n",
    "print(response.text)"
   ]
  },
  {
   "cell_type": "code",
   "execution_count": 27,
   "metadata": {},
   "outputs": [
    {
     "name": "stdout",
     "output_type": "stream",
     "text": [
      "Second transaction broadcasted\n",
      "201 Created\n",
      "{\n",
      "  \"tx\": {\n",
      "    \"block_height\": -1,\n",
      "    \"block_index\": -1,\n",
      "    \"hash\": \"bc451c6696e394878785256b09f1ab3459890cf97bf11ba9ec919d8bab5969a4\",\n",
      "    \"addresses\": [\n",
      "      \"zLELbFzx3Hm7YXF269QDZyfRdrPsNg4jcW\",\n",
      "      \"moonuSvwZDL5HExuVQuL223RSw63fhJsaL\"\n",
      "    ],\n",
      "    \"total\": 10807,\n",
      "    \"fees\": 0,\n",
      "    \"size\": 231,\n",
      "    \"vsize\": 231,\n",
      "    \"preference\": \"low\",\n",
      "    \"relayed_by\": \"202.61.242.34\",\n",
      "    \"received\": \"2024-05-30T15:13:26.00895485Z\",\n",
      "    \"ver\": 1,\n",
      "    \"double_spend\": false,\n",
      "    \"vin_sz\": 1,\n",
      "    \"vout_sz\": 1,\n",
      "    \"confirmations\": 0,\n",
      "    \"inputs\": [\n",
      "      {\n",
      "        \"prev_hash\": \"68133e81839f5edb08441b2214fe0a48834612e1dfef176ebac57cee96297511\",\n",
      "        \"output_index\": 0,\n",
      "        \"script\": \"00483045022100a1698008779c8366fc22f167e59b296cf49d4c2680f2018aa790c4b0c5beaa5902204d17ce69b90b27895959021ba5156226ce2c37315b63e54d11a5c8a9de2930580147304402205880adfd65a7ac8b3f2b9dddf1746fba66a143936b50f07a894529e3e362f12902203780acea9fb5f7f1e875843901c4b4d5b6144b5423b345b6e658ddc7ccdf724401\",\n",
      "        \"output_value\": 10807,\n",
      "        \"sequence\": 4294967295,\n",
      "        \"addresses\": [\n",
      "          \"zLELbFzx3Hm7YXF269QDZyfRdrPsNg4jcW\"\n",
      "        ],\n",
      "        \"script_type\": \"pay-to-multi-pubkey-hash\",\n",
      "        \"age\": 0\n",
      "      }\n",
      "    ],\n",
      "    \"outputs\": [\n",
      "      {\n",
      "        \"value\": 10807,\n",
      "        \"script\": \"76a9145af03d4c21a6069e0829dfce9bb40ba34168693f88ac\",\n",
      "        \"addresses\": [\n",
      "          \"moonuSvwZDL5HExuVQuL223RSw63fhJsaL\"\n",
      "        ],\n",
      "        \"script_type\": \"pay-to-pubkey-hash\"\n",
      "      }\n",
      "    ]\n",
      "  }\n",
      "}\n"
     ]
    }
   ],
   "source": [
    "txid_to_spend_2 =  \"68133e81839f5edb08441b2214fe0a48834612e1dfef176ebac57cee96297511\"\n",
    "utxo_index_2 = 0\n",
    "txout_scriptPubKey_2 = P2PKH_scriptPubKey(my_address)\n",
    "\n",
    "response_2 = send_from_MULTISIG_transaction(amount, txid_to_spend_2, utxo_index_2, txout_scriptPubKey_2, public_key1, public_key2, public_key3, private_key1, private_key2)\n",
    "print(\"Second transaction broadcasted\")\n",
    "print(response_2.status_code, response_2.reason)\n",
    "print(response_2.text)"
   ]
  },
  {
   "cell_type": "markdown",
   "metadata": {},
   "source": [
    "2.3: Custom Transaction (BitCoin Scripting)  \n",
    "We get some coin again from faucet:  \n",
    "https://live.blockcypher.com/btc-testnet/tx/e8f80f1108e956726c5ea5c4bb703cc57c978d8b9b8c5eef16f61913c68bd800/"
   ]
  },
  {
   "cell_type": "code",
   "execution_count": 28,
   "metadata": {},
   "outputs": [],
   "source": [
    "def age_or_pass_scriptPubKey(password):\n",
    "    return [OP_SUB, OP_GREATERTHANOREQUAL, 18, OP_IF, OP_DROP, OP_TRUE, OP_ELSE, OP_HASH160,\n",
    "            Hash160(password.to_bytes(4, byteorder='little')), OP_EQUALVERIFY, OP_ENDIF]\n",
    "\n",
    "\n",
    "def age_or_passScriptSig(password, current_date, birth_date):\n",
    "    return [password, current_date, birth_date]\n",
    "\n",
    "\n",
    "def send_from_passScriptSig_transaction(amount, txid_to_spend, utxo_index, txout_scriptPubKey, password, current_date, birth_date):\n",
    "    txout = create_txout(amount, txout_scriptPubKey)\n",
    "    txin_scriptPubKey = age_or_pass_scriptPubKey(password)\n",
    "    txin = create_txin(txid_to_spend, utxo_index)\n",
    "    txin_scriptSig = age_or_passScriptSig(password, current_date, birth_date)\n",
    "    new_tx = create_signed_transaction(txin, [txout], txin_scriptPubKey, txin_scriptSig)\n",
    "    return broadcast_transaction(new_tx)"
   ]
  },
  {
   "cell_type": "code",
   "execution_count": 29,
   "metadata": {},
   "outputs": [
    {
     "name": "stdout",
     "output_type": "stream",
     "text": [
      "First transaction broadcasted\n",
      "201 Created\n",
      "{\n",
      "  \"tx\": {\n",
      "    \"block_height\": -1,\n",
      "    \"block_index\": -1,\n",
      "    \"hash\": \"31994a206d7cc92fa61211d701c2370250eb286dd46a0c60e542d1fd216a91b5\",\n",
      "    \"addresses\": [\n",
      "      \"moonuSvwZDL5HExuVQuL223RSw63fhJsaL\"\n",
      "    ],\n",
      "    \"total\": 14509,\n",
      "    \"fees\": 0,\n",
      "    \"size\": 230,\n",
      "    \"vsize\": 230,\n",
      "    \"preference\": \"low\",\n",
      "    \"relayed_by\": \"202.61.242.34\",\n",
      "    \"received\": \"2024-05-30T15:17:22.183859798Z\",\n",
      "    \"ver\": 1,\n",
      "    \"double_spend\": false,\n",
      "    \"vin_sz\": 1,\n",
      "    \"vout_sz\": 1,\n",
      "    \"confirmations\": 0,\n",
      "    \"inputs\": [\n",
      "      {\n",
      "        \"prev_hash\": \"e8f80f1108e956726c5ea5c4bb703cc57c978d8b9b8c5eef16f61913c68bd800\",\n",
      "        \"output_index\": 0,\n",
      "        \"script\": \"47304402206de05c0cc9dba239bb47dc9237c9c0775ad25633c3022fe1a467b64be8b51c75022074b813d3059fe1ed999792d9d8816f12846ecbc3cf3bc0855d4ed2d6691343a701410470841664631eebe9c1df5972786efef7ab35d5442afd20cf2a85df401c0cb4df8e29ced7be5e5690399b70f6d055ec1b7e6506cd43c67bda097b5a3335ef9127\",\n",
      "        \"output_value\": 14509,\n",
      "        \"sequence\": 4294967295,\n",
      "        \"addresses\": [\n",
      "          \"moonuSvwZDL5HExuVQuL223RSw63fhJsaL\"\n",
      "        ],\n",
      "        \"script_type\": \"pay-to-pubkey-hash\",\n",
      "        \"age\": 2818345\n",
      "      }\n",
      "    ],\n",
      "    \"outputs\": [\n",
      "      {\n",
      "        \"value\": 14509,\n",
      "        \"script\": \"94a2011263755167a9145cbb25197a6fde6d1e53d42d141520d6ac3392778868\",\n",
      "        \"addresses\": null,\n",
      "        \"script_type\": \"unknown\"\n",
      "      }\n",
      "    ]\n",
      "  }\n",
      "}\n"
     ]
    }
   ],
   "source": [
    "my_private_key = bitcoin.wallet.CBitcoinSecret('92DuwWRXqqF3yxJCvSUvkcjPE2phy2XMS1jGaM8BQMkUfx7dnPk')\n",
    "my_public_key = my_private_key.pub\n",
    "my_address = bitcoin.wallet.P2PKHBitcoinAddress.from_pubkey(my_public_key)\n",
    "\n",
    "amount_to_send = 0.00014509\n",
    "txid_to_spend = 'e8f80f1108e956726c5ea5c4bb703cc57c978d8b9b8c5eef16f61913c68bd800'\n",
    "utxo_index = 0\n",
    "\n",
    "amounts = [0.00014509]\n",
    "\n",
    "scriptPubKey = age_or_pass_scriptPubKey(810100146)\n",
    "response = send_from_P2PKH_transactions(amounts, txid_to_spend, utxo_index, [scriptPubKey], my_address, my_private_key, my_public_key)\n",
    "\n",
    "print(\"First transaction broadcasted\")\n",
    "print(response.status_code, response.reason)\n",
    "print(response.text)"
   ]
  },
  {
   "cell_type": "code",
   "execution_count": 30,
   "metadata": {},
   "outputs": [
    {
     "name": "stdout",
     "output_type": "stream",
     "text": [
      "Second transaction broadcasted\n",
      "201 Created\n",
      "{\n",
      "  \"tx\": {\n",
      "    \"block_height\": -1,\n",
      "    \"block_index\": -1,\n",
      "    \"hash\": \"0505113537cdda3d27ca1e49a76e4a60bfecbb2c5ead41b69daa413baa8a5196\",\n",
      "    \"addresses\": [\n",
      "      \"moonuSvwZDL5HExuVQuL223RSw63fhJsaL\"\n",
      "    ],\n",
      "    \"total\": 14509,\n",
      "    \"fees\": 0,\n",
      "    \"size\": 96,\n",
      "    \"vsize\": 96,\n",
      "    \"preference\": \"low\",\n",
      "    \"relayed_by\": \"202.61.242.34\",\n",
      "    \"received\": \"2024-05-30T15:18:48.889294557Z\",\n",
      "    \"ver\": 1,\n",
      "    \"double_spend\": false,\n",
      "    \"vin_sz\": 1,\n",
      "    \"vout_sz\": 1,\n",
      "    \"confirmations\": 0,\n",
      "    \"inputs\": [\n",
      "      {\n",
      "        \"prev_hash\": \"31994a206d7cc92fa61211d701c2370250eb286dd46a0c60e542d1fd216a91b5\",\n",
      "        \"output_index\": 0,\n",
      "        \"script\": \"04b225493002e80702e407\",\n",
      "        \"output_value\": 14509,\n",
      "        \"sequence\": 4294967295,\n",
      "        \"script_type\": \"unknown\",\n",
      "        \"age\": 0\n",
      "      }\n",
      "    ],\n",
      "    \"outputs\": [\n",
      "      {\n",
      "        \"value\": 14509,\n",
      "        \"script\": \"76a9145af03d4c21a6069e0829dfce9bb40ba34168693f88ac\",\n",
      "        \"addresses\": [\n",
      "          \"moonuSvwZDL5HExuVQuL223RSw63fhJsaL\"\n",
      "        ],\n",
      "        \"script_type\": \"pay-to-pubkey-hash\"\n",
      "      }\n",
      "    ]\n",
      "  }\n",
      "}\n"
     ]
    }
   ],
   "source": [
    "txid_to_spend_2 = \"31994a206d7cc92fa61211d701c2370250eb286dd46a0c60e542d1fd216a91b5\"\n",
    "utxo_index_2 = 0\n",
    "txout_scriptPubKey_2 = P2PKH_scriptPubKey(my_address)\n",
    "\n",
    "response_2 = send_from_passScriptSig_transaction(0.00014509, txid_to_spend_2, utxo_index_2, txout_scriptPubKey_2, 810100146, 2024, 2020)\n",
    "print(\"Second transaction broadcasted\")\n",
    "print(response_2.status_code, response_2.reason)\n",
    "print(response_2.text)"
   ]
  },
  {
   "cell_type": "markdown",
   "metadata": {},
   "source": [
    "Another attempt to see if works the people over 18 years old.  \n",
    "get money rfom faucet link:  \n",
    "https://live.blockcypher.com/btc-testnet/tx/56268b5eeba8897971e154814df3d87373fa726877c6f3533a398226d1038b9f/"
   ]
  },
  {
   "cell_type": "code",
   "execution_count": 31,
   "metadata": {},
   "outputs": [
    {
     "name": "stdout",
     "output_type": "stream",
     "text": [
      "First transaction broadcasted\n",
      "201 Created\n",
      "{\n",
      "  \"tx\": {\n",
      "    \"block_height\": -1,\n",
      "    \"block_index\": -1,\n",
      "    \"hash\": \"1d073be33fe5adda9d37afe0ea5c562863696f88df25934a36042d0b7a18e53a\",\n",
      "    \"addresses\": [\n",
      "      \"moonuSvwZDL5HExuVQuL223RSw63fhJsaL\"\n",
      "    ],\n",
      "    \"total\": 8926,\n",
      "    \"fees\": 0,\n",
      "    \"size\": 230,\n",
      "    \"vsize\": 230,\n",
      "    \"preference\": \"low\",\n",
      "    \"relayed_by\": \"202.61.242.34\",\n",
      "    \"received\": \"2024-05-30T15:22:14.009372747Z\",\n",
      "    \"ver\": 1,\n",
      "    \"double_spend\": false,\n",
      "    \"vin_sz\": 1,\n",
      "    \"vout_sz\": 1,\n",
      "    \"confirmations\": 0,\n",
      "    \"inputs\": [\n",
      "      {\n",
      "        \"prev_hash\": \"56268b5eeba8897971e154814df3d87373fa726877c6f3533a398226d1038b9f\",\n",
      "        \"output_index\": 0,\n",
      "        \"script\": \"4730440220344b5505bacea4d8534992ea6f4784ea627a7888cae3e58ae5e61a4a8d59770602204bc09781f2957cf4b39c28f25631025816cab584fe5f80e00ffd35e94d467b8e01410470841664631eebe9c1df5972786efef7ab35d5442afd20cf2a85df401c0cb4df8e29ced7be5e5690399b70f6d055ec1b7e6506cd43c67bda097b5a3335ef9127\",\n",
      "        \"output_value\": 8926,\n",
      "        \"sequence\": 4294967295,\n",
      "        \"addresses\": [\n",
      "          \"moonuSvwZDL5HExuVQuL223RSw63fhJsaL\"\n",
      "        ],\n",
      "        \"script_type\": \"pay-to-pubkey-hash\",\n",
      "        \"age\": 2818419\n",
      "      }\n",
      "    ],\n",
      "    \"outputs\": [\n",
      "      {\n",
      "        \"value\": 8926,\n",
      "        \"script\": \"94a2011263755167a9145cbb25197a6fde6d1e53d42d141520d6ac3392778868\",\n",
      "        \"addresses\": null,\n",
      "        \"script_type\": \"unknown\"\n",
      "      }\n",
      "    ]\n",
      "  }\n",
      "}\n"
     ]
    }
   ],
   "source": [
    "my_private_key = bitcoin.wallet.CBitcoinSecret('92DuwWRXqqF3yxJCvSUvkcjPE2phy2XMS1jGaM8BQMkUfx7dnPk')\n",
    "my_public_key = my_private_key.pub\n",
    "my_address = bitcoin.wallet.P2PKHBitcoinAddress.from_pubkey(my_public_key)\n",
    "\n",
    "amount_to_send = 0.00008926\n",
    "txid_to_spend = '56268b5eeba8897971e154814df3d87373fa726877c6f3533a398226d1038b9f'\n",
    "utxo_index = 0\n",
    "\n",
    "amounts = [0.00008926]\n",
    "\n",
    "scriptPubKey = age_or_pass_scriptPubKey(810100146)\n",
    "response = send_from_P2PKH_transactions(amounts, txid_to_spend, utxo_index, [scriptPubKey], my_address, my_private_key, my_public_key)\n",
    "\n",
    "print(\"First transaction broadcasted\")\n",
    "print(response.status_code, response.reason)\n",
    "print(response.text)"
   ]
  },
  {
   "cell_type": "code",
   "execution_count": 32,
   "metadata": {},
   "outputs": [
    {
     "name": "stdout",
     "output_type": "stream",
     "text": [
      "Second transaction broadcasted\n",
      "201 Created\n",
      "{\n",
      "  \"tx\": {\n",
      "    \"block_height\": -1,\n",
      "    \"block_index\": -1,\n",
      "    \"hash\": \"63fdc7b1e12efd27088ac9dba57ff868b0d1b6563902a4713be80b025bae5ec6\",\n",
      "    \"addresses\": [\n",
      "      \"moonuSvwZDL5HExuVQuL223RSw63fhJsaL\"\n",
      "    ],\n",
      "    \"total\": 8926,\n",
      "    \"fees\": 0,\n",
      "    \"size\": 92,\n",
      "    \"vsize\": 92,\n",
      "    \"preference\": \"low\",\n",
      "    \"relayed_by\": \"202.61.242.34\",\n",
      "    \"received\": \"2024-05-30T15:24:06.725485041Z\",\n",
      "    \"ver\": 1,\n",
      "    \"double_spend\": false,\n",
      "    \"vin_sz\": 1,\n",
      "    \"vout_sz\": 1,\n",
      "    \"confirmations\": 0,\n",
      "    \"inputs\": [\n",
      "      {\n",
      "        \"prev_hash\": \"1d073be33fe5adda9d37afe0ea5c562863696f88df25934a36042d0b7a18e53a\",\n",
      "        \"output_index\": 0,\n",
      "        \"script\": \"0002e80702d007\",\n",
      "        \"output_value\": 8926,\n",
      "        \"sequence\": 4294967295,\n",
      "        \"script_type\": \"unknown\",\n",
      "        \"age\": 0\n",
      "      }\n",
      "    ],\n",
      "    \"outputs\": [\n",
      "      {\n",
      "        \"value\": 8926,\n",
      "        \"script\": \"76a9145af03d4c21a6069e0829dfce9bb40ba34168693f88ac\",\n",
      "        \"addresses\": [\n",
      "          \"moonuSvwZDL5HExuVQuL223RSw63fhJsaL\"\n",
      "        ],\n",
      "        \"script_type\": \"pay-to-pubkey-hash\"\n",
      "      }\n",
      "    ]\n",
      "  }\n",
      "}\n"
     ]
    }
   ],
   "source": [
    "txid_to_spend_2 = \"1d073be33fe5adda9d37afe0ea5c562863696f88df25934a36042d0b7a18e53a\"\n",
    "utxo_index_2 = 0\n",
    "txout_scriptPubKey_2 = P2PKH_scriptPubKey(my_address)\n",
    "\n",
    "response_2 = send_from_passScriptSig_transaction(0.00008926, txid_to_spend_2, utxo_index_2, txout_scriptPubKey_2, 0, 2024, 2000)\n",
    "print(\"Second transaction broadcasted\")\n",
    "print(response_2.status_code, response_2.reason)\n",
    "print(response_2.text)"
   ]
  }
 ],
 "metadata": {
  "kernelspec": {
   "display_name": "Python 3",
   "language": "python",
   "name": "python3"
  },
  "language_info": {
   "codemirror_mode": {
    "name": "ipython",
    "version": 3
   },
   "file_extension": ".py",
   "mimetype": "text/x-python",
   "name": "python",
   "nbconvert_exporter": "python",
   "pygments_lexer": "ipython3",
   "version": "3.11.4"
  }
 },
 "nbformat": 4,
 "nbformat_minor": 2
}
